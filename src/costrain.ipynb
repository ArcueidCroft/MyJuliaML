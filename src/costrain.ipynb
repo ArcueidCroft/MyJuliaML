{
 "cells": [
  {
   "cell_type": "code",
   "execution_count": 1,
   "metadata": {},
   "outputs": [],
   "source": [
    "using Flux\n",
    "using Plots"
   ]
  },
  {
   "cell_type": "code",
   "execution_count": 8,
   "metadata": {},
   "outputs": [
    {
     "data": {
      "text/plain": [
       "loss (generic function with 1 method)"
      ]
     },
     "metadata": {},
     "output_type": "display_data"
    }
   ],
   "source": [
    "model = Chain(Dense(1 => 32),\n",
    "                Dense(32 => 10),\n",
    "                Dense(10 => 1),\n",
    "                )\n",
    "loss(x, y) = Flux.mse(model(x), y)"
   ]
  },
  {
   "cell_type": "code",
   "execution_count": 12,
   "metadata": {},
   "outputs": [
    {
     "ename": "MethodError",
     "evalue": "MethodError: no method matching (::Dense{typeof(identity), Matrix{Float32}, Vector{Float32}})(::Float64)\n\nClosest candidates are:\n  (::Dense)(!Matched::AbstractVecOrMat)\n   @ Flux ~/.julia/packages/Flux/jgpVj/src/layers/basic.jl:170\n  (::Dense)(!Matched::AbstractArray)\n   @ Flux ~/.julia/packages/Flux/jgpVj/src/layers/basic.jl:177\n",
     "output_type": "error",
     "traceback": [
      "MethodError: no method matching (::Dense{typeof(identity), Matrix{Float32}, Vector{Float32}})(::Float64)\n",
      "\n",
      "Closest candidates are:\n",
      "  (::Dense)(!Matched::AbstractVecOrMat)\n",
      "   @ Flux ~/.julia/packages/Flux/jgpVj/src/layers/basic.jl:170\n",
      "  (::Dense)(!Matched::AbstractArray)\n",
      "   @ Flux ~/.julia/packages/Flux/jgpVj/src/layers/basic.jl:177\n",
      "\n",
      "\n",
      "Stacktrace:\n",
      "  [1] macro expansion\n",
      "    @ ~/.julia/packages/Zygote/jxHJc/src/compiler/interface2.jl:101 [inlined]\n",
      "  [2] _pullback(ctx::Zygote.Context{true}, f::Dense{typeof(identity), Matrix{Float32}, Vector{Float32}}, args::Float64)\n",
      "    @ Zygote ~/.julia/packages/Zygote/jxHJc/src/compiler/interface2.jl:101\n",
      "  [3] macro expansion\n",
      "    @ ~/.julia/packages/Flux/jgpVj/src/layers/basic.jl:53 [inlined]\n",
      "  [4] _pullback\n",
      "    @ ~/.julia/packages/Flux/jgpVj/src/layers/basic.jl:53 [inlined]\n",
      "  [5] _pullback(::Zygote.Context{true}, ::typeof(Flux._applychain), ::Tuple{Dense{typeof(identity), Matrix{Float32}, Vector{Float32}}, Dense{typeof(identity), Matrix{Float32}, Vector{Float32}}, Dense{typeof(identity), Matrix{Float32}, Vector{Float32}}}, ::Float64)\n",
      "    @ Zygote ~/.julia/packages/Zygote/jxHJc/src/compiler/interface2.jl:0\n",
      "  [6] _pullback\n",
      "    @ ~/.julia/packages/Flux/jgpVj/src/layers/basic.jl:51 [inlined]\n",
      "  [7] _pullback(ctx::Zygote.Context{true}, f::Chain{Tuple{Dense{typeof(identity), Matrix{Float32}, Vector{Float32}}, Dense{typeof(identity), Matrix{Float32}, Vector{Float32}}, Dense{typeof(identity), Matrix{Float32}, Vector{Float32}}}}, args::Float64)\n",
      "    @ Zygote ~/.julia/packages/Zygote/jxHJc/src/compiler/interface2.jl:0\n",
      "  [8] _pullback\n",
      "    @ /data/sdv1/zhangqy/JuliaML/src/costrain.ipynb:5 [inlined]\n",
      "  [9] _pullback(::Zygote.Context{true}, ::typeof(loss), ::Float64, ::Float64)\n",
      "    @ Zygote ~/.julia/packages/Zygote/jxHJc/src/compiler/interface2.jl:0\n",
      " [10] _apply\n",
      "    @ ./boot.jl:838 [inlined]\n",
      " [11] adjoint\n",
      "    @ ~/.julia/packages/Zygote/jxHJc/src/lib/lib.jl:203 [inlined]\n",
      " [12] _pullback\n",
      "    @ ~/.julia/packages/ZygoteRules/M4xmc/src/adjoint.jl:67 [inlined]\n",
      " [13] _pullback\n",
      "    @ ~/.julia/packages/Flux/jgpVj/src/optimise/train.jl:92 [inlined]\n",
      " [14] _pullback(::Zygote.Context{true}, ::Flux.Optimise.var\"#37#40\"{typeof(loss), Tuple{Float64, Float64}})\n",
      "    @ Zygote ~/.julia/packages/Zygote/jxHJc/src/compiler/interface2.jl:0\n",
      " [15] pullback(f::Function, ps::Zygote.Params{Zygote.Buffer{Any, Vector{Any}}})\n",
      "    @ Zygote ~/.julia/packages/Zygote/jxHJc/src/compiler/interface.jl:465\n",
      " [16] withgradient(f::Function, args::Zygote.Params{Zygote.Buffer{Any, Vector{Any}}})\n",
      "    @ Zygote ~/.julia/packages/Zygote/jxHJc/src/compiler/interface.jl:205\n",
      " [17] macro expansion\n",
      "    @ ~/.julia/packages/Flux/jgpVj/src/optimise/train.jl:91 [inlined]\n",
      " [18] macro expansion\n",
      "    @ ~/.julia/packages/ProgressLogging/6KXlp/src/ProgressLogging.jl:328 [inlined]\n",
      " [19] train!(loss::Function, ps::Zygote.Params{Zygote.Buffer{Any, Vector{Any}}}, data::Vector{Tuple{Float64, Float64}}, opt::Adam; cb::Flux.Optimise.var\"#38#41\")\n",
      "    @ Flux.Optimise ~/.julia/packages/Flux/jgpVj/src/optimise/train.jl:90\n",
      " [20] train!(loss::Function, ps::Zygote.Params{Zygote.Buffer{Any, Vector{Any}}}, data::Vector{Tuple{Float64, Float64}}, opt::Adam)\n",
      "    @ Flux.Optimise ~/.julia/packages/Flux/jgpVj/src/optimise/train.jl:86\n",
      " [21] top-level scope\n",
      "    @ /data/sdv1/zhangqy/JuliaML/src/costrain.ipynb:5"
     ]
    }
   ],
   "source": [
    "x = [0.02i for i = 1:1000]\n",
    "y = cos.(x)\n",
    "\n",
    "for i = 1:1000\n",
    "    Flux.train!(loss, Flux.params(model), [(x[i], y[i])], ADAM(0.01))\n",
    "    if i%100 == 0\n",
    "        println(\"i = $i, loss = $(loss(x, y))\")\n",
    "    end\n",
    "end"
   ]
  },
  {
   "cell_type": "code",
   "execution_count": null,
   "metadata": {},
   "outputs": [],
   "source": []
  }
 ],
 "metadata": {
  "kernelspec": {
   "display_name": "Julia 1.9.4",
   "language": "julia",
   "name": "julia-1.9"
  },
  "language_info": {
   "file_extension": ".jl",
   "mimetype": "application/julia",
   "name": "julia",
   "version": "1.9.4"
  }
 },
 "nbformat": 4,
 "nbformat_minor": 2
}
